{
 "cells": [
  {
   "cell_type": "code",
   "execution_count": 3,
   "metadata": {},
   "outputs": [],
   "source": [
    "import pandas as pd\n",
    "import numpy as np\n",
    "import seaborn as sns; sns.set()\n",
    "import matplotlib.pyplot as plt\n",
    "\n",
    "from scipy.stats import norm\n",
    "from scipy.stats import t\n",
    "\n",
    "import statsmodels.api as sm\n",
    "import statsmodels.formula.api as smf\n",
    "\n",
    "from sklearn.metrics import confusion_matrix, roc_curve, roc_auc_score\n",
    "from sklearn.metrics import roc_curve\n",
    "from sklearn.metrics import roc_auc_score\n",
    "from sklearn.metrics import plot_roc_curve\n",
    "from sklearn.model_selection import train_test_split"
   ]
  },
  {
   "cell_type": "markdown",
   "metadata": {},
   "source": [
    "## df Columns:\n",
    "\n",
    "Timestamp\n",
    "\n",
    "Age \n",
    "\n",
    "Gender\n",
    "\n",
    "Country\n",
    "\n",
    "state: If you live in the United States, which state or territory do you live in?\n",
    "\n",
    "self_employed: Are you self-employed?\n",
    "\n",
    "family_history: Do you have a family history of mental illness?\n",
    "\n",
    "treatment: Have you sought treatment for a mental health condition? (Response Variable)\n",
    "\n",
    "work_interfere: If you have a mental health condition, do you feel that it interferes with your work?\n",
    "\n",
    "no_employees: How many employees does your company or organization have? (Environment Varible)\n",
    "\n",
    "remote_work: Do you work remotely (outside of an office) at least 50% of the time? (Environment Varible)\n",
    "\n",
    "tech_company: Is your employer primarily a tech company/organization? (Environment Varible)\n",
    "\n",
    "benefits: Does your employer provide mental health benefits? (Welfare Variable)\n",
    "\n",
    "care_options: Do you know the options for mental health care your employer provides?\n",
    "\n",
    "wellness_program: Has your employer ever discussed mental health as part of an employee wellness program? (Welfare Variable)\n",
    "\n",
    "seek_help: Does your employer provide resources to learn more about mental health issues and how to seek help? (Environment Varible)\n",
    "\n",
    "anonymity: Is your anonymity protected if you choose to take advantage of mental health or substance abuse treatment resources? \n",
    "\n",
    "leave: How easy is it for you to take medical leave for a mental health condition? (Welfare Variable)\n",
    "\n",
    "mentalhealthconsequence: Do you think that discussing a mental health issue with your employer would have negative consequences?\n",
    "\n",
    "physhealthconsequence: Do you think that discussing a physical health issue with your employer would have negative consequences?\n",
    "\n",
    "coworkers: Would you be willing to discuss a mental health issue with your coworkers?\n",
    "\n",
    "supervisor: Would you be willing to discuss a mental health issue with your direct supervisor(s)?\n",
    "\n",
    "mentalhealthinterview: Would you bring up a mental health issue with a potential employer in an interview?\n",
    "\n",
    "physhealthinterview: Would you bring up a physical health issue with a potential employer in an interview?\n",
    "\n",
    "mentalvsphysical: Do you feel that your employer takes mental health as seriously as physical health? \n",
    "\n",
    "obs_consequence: Have you heard of or observed negative consequences for coworkers with mental health conditions in your workplace?\n",
    "\n",
    "comments: Any additional notes or comments"
   ]
  },
  {
   "cell_type": "markdown",
   "metadata": {},
   "source": [
    "## Research Questions:\n",
    "\n",
    "### 1. What factors in work (working environment, welfare, employer's attitude towards mental issue) are more likely to cause mental health problems for employees?\n",
    "\n",
    "### 2. Is there an association between gender, age, and mental health?"
   ]
  },
  {
   "cell_type": "markdown",
   "metadata": {},
   "source": [
    "## Analysis Columns:\n",
    "treatment: Have you sought treatment for a mental health condition? (Response Variable)\n",
    "\n",
    "Gender\n",
    "\n",
    "Age\n",
    "\n",
    "no_employees: How many employees does your company or organization have? (Environment Varible)\n",
    "\n",
    "remote_work: Do you work remotely (outside of an office) at least 50% of the time? (Environment Varible)\n",
    "\n",
    "tech_company: Is your employer primarily a tech company/organization? (Environment Varible)\n",
    "\n",
    "benefits: Does your employer provide mental health benefits? (Welfare Variable)\n",
    "\n",
    "wellness_program: Has your employer ever discussed mental health as part of an employee wellness program? (Welfare Variable)\n",
    "\n",
    "seek_help: Does your employer provide resources to learn more about mental health issues and how to seek help? (Environment Varible)\n",
    "\n",
    "leave: How easy is it for you to take medical leave for a mental health condition? (Welfare Variable)"
   ]
  },
  {
   "cell_type": "markdown",
   "metadata": {},
   "source": [
    "## Analysis Columns' Data Cleaning"
   ]
  },
  {
   "cell_type": "markdown",
   "metadata": {},
   "source": [
    "### treatment (y)"
   ]
  },
  {
   "cell_type": "code",
   "execution_count": 4,
   "metadata": {},
   "outputs": [
    {
     "data": {
      "text/plain": [
       "array(['Yes', 'No'], dtype=object)"
      ]
     },
     "execution_count": 4,
     "metadata": {},
     "output_type": "execute_result"
    }
   ],
   "source": [
    "df = pd.read_csv('survey.csv')\n",
    "df['treatment'].unique()"
   ]
  },
  {
   "cell_type": "code",
   "execution_count": 5,
   "metadata": {},
   "outputs": [
    {
     "data": {
      "text/plain": [
       "array([1, 0], dtype=int64)"
      ]
     },
     "execution_count": 5,
     "metadata": {},
     "output_type": "execute_result"
    }
   ],
   "source": [
    "df['treatment'] = df['treatment'].map({'Yes': 1, 'No': 0})\n",
    "df['treatment'].unique()"
   ]
  },
  {
   "cell_type": "markdown",
   "metadata": {},
   "source": [
    "### Gender"
   ]
  },
  {
   "cell_type": "code",
   "execution_count": 6,
   "metadata": {},
   "outputs": [
    {
     "data": {
      "text/plain": [
       "array(['Female', 'M', 'Male', 'male', 'female', 'm', 'Male-ish', 'maile',\n",
       "       'Trans-female', 'Cis Female', 'F', 'something kinda male?',\n",
       "       'Cis Male', 'Woman', 'f', 'Mal', 'Male (CIS)', 'queer/she/they',\n",
       "       'non-binary', 'Femake', 'woman', 'Make', 'Nah', 'All', 'Enby',\n",
       "       'fluid', 'Genderqueer', 'Female ', 'Androgyne', 'Agender',\n",
       "       'cis-female/femme', 'Guy (-ish) ^_^', 'male leaning androgynous',\n",
       "       'Male ', 'Man', 'Trans woman', 'msle', 'Neuter', 'Female (trans)',\n",
       "       'queer', 'Female (cis)', 'Mail', 'cis male', 'A little about you',\n",
       "       'Malr', 'p', 'femail', 'Cis Man',\n",
       "       'ostensibly male, unsure what that really means'], dtype=object)"
      ]
     },
     "execution_count": 6,
     "metadata": {},
     "output_type": "execute_result"
    }
   ],
   "source": [
    "df['Gender'].unique()"
   ]
  },
  {
   "cell_type": "code",
   "execution_count": 7,
   "metadata": {},
   "outputs": [],
   "source": [
    "df['Gender'] = df['Gender'].replace(['M','m', 'Male','Male ','male','Male-ish', 'maile', 'something kinda male?', 'Cis Male', 'Mal', 'Male (CIS)', 'Make', \n",
    "                                     'Guy (-ish) ^_^', 'male leaning androgynous', 'Man', 'msle', 'Mail', 'cis male', 'Malr', 'Cis Man'],1)\n",
    "df['Gender'] = df['Gender'].replace(['F','Female','female','Trans-female','Cis Female','Woman','f','queer/she/they','Femake','woman','Female ',\n",
    "                                     'cis-female/femme','Trans woman','Female (trans)','Female (cis)','femail'], 0)"
   ]
  },
  {
   "cell_type": "code",
   "execution_count": 8,
   "metadata": {},
   "outputs": [
    {
     "data": {
      "text/plain": [
       "array([0, 1, 'non-binary', 'Nah', 'All', 'Enby', 'fluid', 'Genderqueer',\n",
       "       'Androgyne', 'Agender', 'Neuter', 'queer', 'A little about you',\n",
       "       'p', 'ostensibly male, unsure what that really means'],\n",
       "      dtype=object)"
      ]
     },
     "execution_count": 8,
     "metadata": {},
     "output_type": "execute_result"
    }
   ],
   "source": [
    "df['Gender'].unique()"
   ]
  },
  {
   "cell_type": "code",
   "execution_count": 9,
   "metadata": {},
   "outputs": [
    {
     "data": {
      "text/plain": [
       "array([0, 1], dtype=object)"
      ]
     },
     "execution_count": 9,
     "metadata": {},
     "output_type": "execute_result"
    }
   ],
   "source": [
    "df = df[(df.Gender == 1) | (df.Gender == 0)]\n",
    "df['Gender'].unique()"
   ]
  },
  {
   "cell_type": "markdown",
   "metadata": {},
   "source": [
    "### Age"
   ]
  },
  {
   "cell_type": "code",
   "execution_count": 10,
   "metadata": {},
   "outputs": [
    {
     "data": {
      "text/plain": [
       "array([   37,    44,    32,    31,    33,    35,    39,    42,    23,\n",
       "          29,    36,    27,    46,    41,    34,    30,    40,    38,\n",
       "          50,    24,    18,    28,    26,    22,    19,    25,    45,\n",
       "          21,   -29,    43,    56,    60,    54,   329,    55,    48,\n",
       "          20,    57,    58,    47,    62,    51,    65,    49, -1726,\n",
       "           5,    53,    61,    11,    72], dtype=int64)"
      ]
     },
     "execution_count": 10,
     "metadata": {},
     "output_type": "execute_result"
    }
   ],
   "source": [
    "df['Age'].unique()"
   ]
  },
  {
   "cell_type": "code",
   "execution_count": 11,
   "metadata": {},
   "outputs": [
    {
     "data": {
      "text/plain": [
       "array([37, 44, 32, 31, 33, 35, 39, 42, 23, 29, 36, 27, 46, 41, 34, 30, 40,\n",
       "       38, 50, 24, 18, 28, 26, 22, 19, 25, 45, 21, 43, 56, 60, 54, 55, 48,\n",
       "       20, 57, 58, 47, 62, 51, 65, 49, 53, 61, 72], dtype=int64)"
      ]
     },
     "execution_count": 11,
     "metadata": {},
     "output_type": "execute_result"
    }
   ],
   "source": [
    "df = df[(df['Age'] != -29) & (df['Age'] != 329) & (df['Age'] != -1726) & (df['Age'] != 11) & (df['Age'] != 5) ]\n",
    "df['Age'].unique()"
   ]
  },
  {
   "cell_type": "markdown",
   "metadata": {},
   "source": [
    "### no_employees"
   ]
  },
  {
   "cell_type": "code",
   "execution_count": 12,
   "metadata": {},
   "outputs": [
    {
     "data": {
      "text/plain": [
       "array(['6-25', 'More than 1000', '26-100', '100-500', '1-5', '500-1000'],\n",
       "      dtype=object)"
      ]
     },
     "execution_count": 12,
     "metadata": {},
     "output_type": "execute_result"
    }
   ],
   "source": [
    "df['no_employees'].unique()"
   ]
  },
  {
   "cell_type": "code",
   "execution_count": 13,
   "metadata": {},
   "outputs": [
    {
     "data": {
      "text/plain": [
       "array([2, 6, 3, 4, 1, 5], dtype=int64)"
      ]
     },
     "execution_count": 13,
     "metadata": {},
     "output_type": "execute_result"
    }
   ],
   "source": [
    "df['no_employees'] = df['no_employees'].map({'1-5':1, '6-25':2, '26-100':3, '100-500':4, '500-1000':5, 'More than 1000':6})\n",
    "df['no_employees'].unique()"
   ]
  },
  {
   "cell_type": "markdown",
   "metadata": {},
   "source": [
    "### remote_work"
   ]
  },
  {
   "cell_type": "code",
   "execution_count": 14,
   "metadata": {},
   "outputs": [
    {
     "data": {
      "text/plain": [
       "array(['No', 'Yes'], dtype=object)"
      ]
     },
     "execution_count": 14,
     "metadata": {},
     "output_type": "execute_result"
    }
   ],
   "source": [
    "df['remote_work'].unique()"
   ]
  },
  {
   "cell_type": "code",
   "execution_count": 15,
   "metadata": {},
   "outputs": [
    {
     "data": {
      "text/plain": [
       "array([0, 1], dtype=int64)"
      ]
     },
     "execution_count": 15,
     "metadata": {},
     "output_type": "execute_result"
    }
   ],
   "source": [
    "df['remote_work'] = df['remote_work'].map({'Yes': 1, 'No': 0})\n",
    "df['remote_work'].unique()"
   ]
  },
  {
   "cell_type": "markdown",
   "metadata": {},
   "source": [
    "### tech_company"
   ]
  },
  {
   "cell_type": "code",
   "execution_count": 16,
   "metadata": {},
   "outputs": [
    {
     "data": {
      "text/plain": [
       "array(['Yes', 'No'], dtype=object)"
      ]
     },
     "execution_count": 16,
     "metadata": {},
     "output_type": "execute_result"
    }
   ],
   "source": [
    "df['tech_company'].unique()"
   ]
  },
  {
   "cell_type": "code",
   "execution_count": 17,
   "metadata": {},
   "outputs": [
    {
     "data": {
      "text/plain": [
       "array([1, 0], dtype=int64)"
      ]
     },
     "execution_count": 17,
     "metadata": {},
     "output_type": "execute_result"
    }
   ],
   "source": [
    "df['tech_company'] = df['tech_company'].map({'Yes':1, 'No':0})\n",
    "df['tech_company'].unique()"
   ]
  },
  {
   "cell_type": "markdown",
   "metadata": {},
   "source": [
    "### benefits"
   ]
  },
  {
   "cell_type": "code",
   "execution_count": 18,
   "metadata": {},
   "outputs": [
    {
     "data": {
      "text/plain": [
       "array(['Yes', \"Don't know\", 'No'], dtype=object)"
      ]
     },
     "execution_count": 18,
     "metadata": {},
     "output_type": "execute_result"
    }
   ],
   "source": [
    "df['benefits'].unique()"
   ]
  },
  {
   "cell_type": "code",
   "execution_count": 19,
   "metadata": {},
   "outputs": [
    {
     "data": {
      "text/plain": [
       "array([1, 0], dtype=int64)"
      ]
     },
     "execution_count": 19,
     "metadata": {},
     "output_type": "execute_result"
    }
   ],
   "source": [
    "df = df[df['benefits'] != \"Don't know\"]\n",
    "df['benefits'] = df['benefits'].map({'Yes': 1, 'No':0})\n",
    "df['benefits'].unique()"
   ]
  },
  {
   "cell_type": "markdown",
   "metadata": {},
   "source": [
    "### wellness program"
   ]
  },
  {
   "cell_type": "code",
   "execution_count": 20,
   "metadata": {},
   "outputs": [
    {
     "data": {
      "text/plain": [
       "array(['No', \"Don't know\", 'Yes'], dtype=object)"
      ]
     },
     "execution_count": 20,
     "metadata": {},
     "output_type": "execute_result"
    }
   ],
   "source": [
    "df['wellness_program'].unique()"
   ]
  },
  {
   "cell_type": "code",
   "execution_count": 21,
   "metadata": {},
   "outputs": [
    {
     "data": {
      "text/plain": [
       "array([0, 1], dtype=int64)"
      ]
     },
     "execution_count": 21,
     "metadata": {},
     "output_type": "execute_result"
    }
   ],
   "source": [
    "df = df[df['wellness_program'] != \"Don't know\"]\n",
    "df['wellness_program'] = df['wellness_program'].map({'Yes':1, 'No': 0})\n",
    "df['wellness_program'].unique()"
   ]
  },
  {
   "cell_type": "markdown",
   "metadata": {},
   "source": [
    "### seek_help"
   ]
  },
  {
   "cell_type": "code",
   "execution_count": 22,
   "metadata": {},
   "outputs": [
    {
     "data": {
      "text/plain": [
       "array(['Yes', 'No', \"Don't know\"], dtype=object)"
      ]
     },
     "execution_count": 22,
     "metadata": {},
     "output_type": "execute_result"
    }
   ],
   "source": [
    "df['seek_help'].unique()"
   ]
  },
  {
   "cell_type": "code",
   "execution_count": 23,
   "metadata": {},
   "outputs": [
    {
     "data": {
      "text/plain": [
       "array([1, 0], dtype=int64)"
      ]
     },
     "execution_count": 23,
     "metadata": {},
     "output_type": "execute_result"
    }
   ],
   "source": [
    "df = df[df['seek_help'] != \"Don't know\"]\n",
    "df['seek_help'] = df['seek_help'].map({'Yes':1, 'No':0})\n",
    "df['seek_help'].unique()"
   ]
  },
  {
   "cell_type": "markdown",
   "metadata": {},
   "source": [
    "### leave"
   ]
  },
  {
   "cell_type": "code",
   "execution_count": 24,
   "metadata": {},
   "outputs": [
    {
     "data": {
      "text/plain": [
       "array(['Somewhat easy', 'Somewhat difficult', \"Don't know\",\n",
       "       'Very difficult', 'Very easy'], dtype=object)"
      ]
     },
     "execution_count": 24,
     "metadata": {},
     "output_type": "execute_result"
    }
   ],
   "source": [
    "df['leave'].unique()"
   ]
  },
  {
   "cell_type": "code",
   "execution_count": 25,
   "metadata": {},
   "outputs": [
    {
     "data": {
      "text/plain": [
       "array([ 1, -1, -2,  2], dtype=int64)"
      ]
     },
     "execution_count": 25,
     "metadata": {},
     "output_type": "execute_result"
    }
   ],
   "source": [
    "df = df[(df.leave != \"Don't know\")]\n",
    "df['leave'] = df['leave'].map({'Very easy':2, 'Somewhat easy':1, 'Somewhat difficult':-1, 'Very difficult':-2})\n",
    "df['leave'].unique()"
   ]
  },
  {
   "cell_type": "code",
   "execution_count": 26,
   "metadata": {},
   "outputs": [
    {
     "data": {
      "text/html": [
       "<div>\n",
       "<style scoped>\n",
       "    .dataframe tbody tr th:only-of-type {\n",
       "        vertical-align: middle;\n",
       "    }\n",
       "\n",
       "    .dataframe tbody tr th {\n",
       "        vertical-align: top;\n",
       "    }\n",
       "\n",
       "    .dataframe thead th {\n",
       "        text-align: right;\n",
       "    }\n",
       "</style>\n",
       "<table border=\"1\" class=\"dataframe\">\n",
       "  <thead>\n",
       "    <tr style=\"text-align: right;\">\n",
       "      <th></th>\n",
       "      <th>Gender</th>\n",
       "      <th>Age</th>\n",
       "      <th>treatment</th>\n",
       "      <th>no_employees</th>\n",
       "      <th>remote_work</th>\n",
       "      <th>tech_company</th>\n",
       "      <th>benefits</th>\n",
       "      <th>wellness_program</th>\n",
       "      <th>seek_help</th>\n",
       "      <th>leave</th>\n",
       "    </tr>\n",
       "  </thead>\n",
       "  <tbody>\n",
       "    <tr>\n",
       "      <th>855</th>\n",
       "      <td>1</td>\n",
       "      <td>25</td>\n",
       "      <td>0</td>\n",
       "      <td>6</td>\n",
       "      <td>0</td>\n",
       "      <td>1</td>\n",
       "      <td>1</td>\n",
       "      <td>1</td>\n",
       "      <td>1</td>\n",
       "      <td>2</td>\n",
       "    </tr>\n",
       "    <tr>\n",
       "      <th>560</th>\n",
       "      <td>1</td>\n",
       "      <td>65</td>\n",
       "      <td>0</td>\n",
       "      <td>2</td>\n",
       "      <td>1</td>\n",
       "      <td>0</td>\n",
       "      <td>0</td>\n",
       "      <td>0</td>\n",
       "      <td>0</td>\n",
       "      <td>2</td>\n",
       "    </tr>\n",
       "    <tr>\n",
       "      <th>765</th>\n",
       "      <td>1</td>\n",
       "      <td>39</td>\n",
       "      <td>0</td>\n",
       "      <td>2</td>\n",
       "      <td>0</td>\n",
       "      <td>1</td>\n",
       "      <td>0</td>\n",
       "      <td>1</td>\n",
       "      <td>0</td>\n",
       "      <td>1</td>\n",
       "    </tr>\n",
       "    <tr>\n",
       "      <th>207</th>\n",
       "      <td>1</td>\n",
       "      <td>30</td>\n",
       "      <td>1</td>\n",
       "      <td>3</td>\n",
       "      <td>0</td>\n",
       "      <td>1</td>\n",
       "      <td>0</td>\n",
       "      <td>0</td>\n",
       "      <td>0</td>\n",
       "      <td>1</td>\n",
       "    </tr>\n",
       "    <tr>\n",
       "      <th>897</th>\n",
       "      <td>1</td>\n",
       "      <td>34</td>\n",
       "      <td>1</td>\n",
       "      <td>1</td>\n",
       "      <td>1</td>\n",
       "      <td>1</td>\n",
       "      <td>0</td>\n",
       "      <td>0</td>\n",
       "      <td>0</td>\n",
       "      <td>-1</td>\n",
       "    </tr>\n",
       "  </tbody>\n",
       "</table>\n",
       "</div>"
      ],
      "text/plain": [
       "    Gender  Age  treatment  no_employees  remote_work  tech_company  benefits  \\\n",
       "855      1   25          0             6            0             1         1   \n",
       "560      1   65          0             2            1             0         0   \n",
       "765      1   39          0             2            0             1         0   \n",
       "207      1   30          1             3            0             1         0   \n",
       "897      1   34          1             1            1             1         0   \n",
       "\n",
       "     wellness_program  seek_help  leave  \n",
       "855                 1          1      2  \n",
       "560                 0          0      2  \n",
       "765                 1          0      1  \n",
       "207                 0          0      1  \n",
       "897                 0          0     -1  "
      ]
     },
     "execution_count": 26,
     "metadata": {},
     "output_type": "execute_result"
    }
   ],
   "source": [
    "df = df[['Gender', 'Age', 'treatment', 'no_employees', 'remote_work', 'tech_company', \n",
    "          'benefits', 'wellness_program', 'seek_help', 'leave']]\n",
    "df.sample(5)"
   ]
  },
  {
   "cell_type": "code",
   "execution_count": 27,
   "metadata": {},
   "outputs": [
    {
     "name": "stdout",
     "output_type": "stream",
     "text": [
      "We have 426 observations in our df, and we use 10 column variables.\n"
     ]
    }
   ],
   "source": [
    "print('We have', df.shape[0], 'observations in our df, and we use', df.shape[1], 'column variables.')"
   ]
  },
  {
   "cell_type": "markdown",
   "metadata": {},
   "source": [
    "# Research Question:\n",
    "\n",
    "## 1. What factors in work (working environment, welfare, employer's attitude towards mental issue) are more likely to cause mental health problems for employees in Tech field? ($\\alpha$ = 0.05)"
   ]
  },
  {
   "cell_type": "markdown",
   "metadata": {},
   "source": [
    "### Training & Testing Model:"
   ]
  },
  {
   "cell_type": "code",
   "execution_count": 28,
   "metadata": {},
   "outputs": [
    {
     "data": {
      "text/html": [
       "<div>\n",
       "<style scoped>\n",
       "    .dataframe tbody tr th:only-of-type {\n",
       "        vertical-align: middle;\n",
       "    }\n",
       "\n",
       "    .dataframe tbody tr th {\n",
       "        vertical-align: top;\n",
       "    }\n",
       "\n",
       "    .dataframe thead th {\n",
       "        text-align: right;\n",
       "    }\n",
       "</style>\n",
       "<table border=\"1\" class=\"dataframe\">\n",
       "  <thead>\n",
       "    <tr style=\"text-align: right;\">\n",
       "      <th></th>\n",
       "      <th>Gender</th>\n",
       "      <th>Age</th>\n",
       "      <th>treatment</th>\n",
       "      <th>no_employees</th>\n",
       "      <th>remote_work</th>\n",
       "      <th>tech_company</th>\n",
       "      <th>benefits</th>\n",
       "      <th>wellness_program</th>\n",
       "      <th>seek_help</th>\n",
       "      <th>leave</th>\n",
       "    </tr>\n",
       "  </thead>\n",
       "  <tbody>\n",
       "    <tr>\n",
       "      <th>405</th>\n",
       "      <td>1</td>\n",
       "      <td>26</td>\n",
       "      <td>0</td>\n",
       "      <td>2</td>\n",
       "      <td>0</td>\n",
       "      <td>1</td>\n",
       "      <td>1</td>\n",
       "      <td>0</td>\n",
       "      <td>1</td>\n",
       "      <td>2</td>\n",
       "    </tr>\n",
       "    <tr>\n",
       "      <th>654</th>\n",
       "      <td>1</td>\n",
       "      <td>32</td>\n",
       "      <td>1</td>\n",
       "      <td>5</td>\n",
       "      <td>0</td>\n",
       "      <td>0</td>\n",
       "      <td>1</td>\n",
       "      <td>1</td>\n",
       "      <td>1</td>\n",
       "      <td>2</td>\n",
       "    </tr>\n",
       "    <tr>\n",
       "      <th>648</th>\n",
       "      <td>0</td>\n",
       "      <td>26</td>\n",
       "      <td>0</td>\n",
       "      <td>4</td>\n",
       "      <td>0</td>\n",
       "      <td>0</td>\n",
       "      <td>0</td>\n",
       "      <td>1</td>\n",
       "      <td>1</td>\n",
       "      <td>1</td>\n",
       "    </tr>\n",
       "    <tr>\n",
       "      <th>800</th>\n",
       "      <td>1</td>\n",
       "      <td>29</td>\n",
       "      <td>0</td>\n",
       "      <td>4</td>\n",
       "      <td>0</td>\n",
       "      <td>0</td>\n",
       "      <td>1</td>\n",
       "      <td>1</td>\n",
       "      <td>0</td>\n",
       "      <td>2</td>\n",
       "    </tr>\n",
       "    <tr>\n",
       "      <th>932</th>\n",
       "      <td>1</td>\n",
       "      <td>43</td>\n",
       "      <td>1</td>\n",
       "      <td>4</td>\n",
       "      <td>1</td>\n",
       "      <td>1</td>\n",
       "      <td>1</td>\n",
       "      <td>0</td>\n",
       "      <td>1</td>\n",
       "      <td>-2</td>\n",
       "    </tr>\n",
       "  </tbody>\n",
       "</table>\n",
       "</div>"
      ],
      "text/plain": [
       "    Gender  Age  treatment  no_employees  remote_work  tech_company  benefits  \\\n",
       "405      1   26          0             2            0             1         1   \n",
       "654      1   32          1             5            0             0         1   \n",
       "648      0   26          0             4            0             0         0   \n",
       "800      1   29          0             4            0             0         1   \n",
       "932      1   43          1             4            1             1         1   \n",
       "\n",
       "     wellness_program  seek_help  leave  \n",
       "405                 0          1      2  \n",
       "654                 1          1      2  \n",
       "648                 1          1      1  \n",
       "800                 1          0      2  \n",
       "932                 0          1     -2  "
      ]
     },
     "execution_count": 28,
     "metadata": {},
     "output_type": "execute_result"
    }
   ],
   "source": [
    "df_train, df_test = train_test_split(df, test_size = 0.2, random_state = 204)\n",
    "df_train.sample(5)"
   ]
  },
  {
   "cell_type": "markdown",
   "metadata": {},
   "source": [
    "### Backward Elimination:"
   ]
  },
  {
   "cell_type": "code",
   "execution_count": 29,
   "metadata": {},
   "outputs": [
    {
     "name": "stdout",
     "output_type": "stream",
     "text": [
      "Optimization terminated successfully.\n",
      "         Current function value: 0.588618\n",
      "         Iterations 5\n",
      "Iteration 1: AIC of the current model 117.24226415528989\n"
     ]
    }
   ],
   "source": [
    "mod_ful = smf.logit(formula = 'treatment ~ no_employees + remote_work + tech_company + benefits + wellness_program + seek_help + leave', data = df_test).fit()\n",
    "print('Iteration 1: AIC of the current model', mod_ful.aic)"
   ]
  },
  {
   "cell_type": "code",
   "execution_count": 30,
   "metadata": {},
   "outputs": [
    {
     "name": "stdout",
     "output_type": "stream",
     "text": [
      "Optimization terminated successfully.\n",
      "         Current function value: 0.588752\n",
      "         Iterations 5\n",
      "Iteration 2  (no_employees): AIC of the current model 115.26536595253336\n"
     ]
    }
   ],
   "source": [
    "mod_no_e = smf.logit(formula = 'treatment ~ remote_work + tech_company + benefits + wellness_program + seek_help + leave', data = df_test).fit()\n",
    "print('Iteration 2  (no_employees): AIC of the current model', mod_no_e.aic)"
   ]
  },
  {
   "cell_type": "code",
   "execution_count": 31,
   "metadata": {},
   "outputs": [
    {
     "name": "stdout",
     "output_type": "stream",
     "text": [
      "Optimization terminated successfully.\n",
      "         Current function value: 0.588733\n",
      "         Iterations 5\n",
      "Iteration 3 (remote_work): AIC of the current model 117.24226415528989\n"
     ]
    }
   ],
   "source": [
    "mod_remote = smf.logit(formula = 'treatment ~ no_employees + tech_company + benefits + wellness_program + seek_help + leave', data = df_test).fit()\n",
    "print('Iteration 3 (remote_work): AIC of the current model', mod_ful.aic)"
   ]
  },
  {
   "cell_type": "code",
   "execution_count": 32,
   "metadata": {},
   "outputs": [
    {
     "name": "stdout",
     "output_type": "stream",
     "text": [
      "Optimization terminated successfully.\n",
      "         Current function value: 0.589947\n",
      "         Iterations 5\n",
      "Iteration 4  (tech_company): AIC of the current model 115.47089423606202\n"
     ]
    }
   ],
   "source": [
    "mod_tech = smf.logit(formula = 'treatment ~ no_employees + remote_work + benefits + wellness_program + seek_help + leave', data = df_test).fit()\n",
    "print('Iteration 4  (tech_company): AIC of the current model', mod_tech.aic)"
   ]
  },
  {
   "cell_type": "code",
   "execution_count": 33,
   "metadata": {},
   "outputs": [
    {
     "name": "stdout",
     "output_type": "stream",
     "text": [
      "Optimization terminated successfully.\n",
      "         Current function value: 0.610655\n",
      "         Iterations 5\n",
      "Iteration 5 (benefits): AIC of the current model 119.03263809750753\n"
     ]
    }
   ],
   "source": [
    "mod_ben = smf.logit(formula = 'treatment ~ no_employees + remote_work + tech_company + wellness_program + seek_help + leave', data = df_test).fit()\n",
    "print('Iteration 5 (benefits): AIC of the current model', mod_ben.aic)"
   ]
  },
  {
   "cell_type": "code",
   "execution_count": 34,
   "metadata": {},
   "outputs": [
    {
     "name": "stdout",
     "output_type": "stream",
     "text": [
      "Optimization terminated successfully.\n",
      "         Current function value: 0.588670\n",
      "         Iterations 5\n",
      "Iteration 6 (wellness_program): AIC of the current model 115.25129738031742\n"
     ]
    }
   ],
   "source": [
    "mod_wellness = smf.logit(formula = 'treatment ~ no_employees + remote_work + tech_company + benefits + seek_help + leave', data = df_test).fit()\n",
    "print('Iteration 6 (wellness_program): AIC of the current model', mod_wellness.aic)"
   ]
  },
  {
   "cell_type": "code",
   "execution_count": 35,
   "metadata": {},
   "outputs": [
    {
     "name": "stdout",
     "output_type": "stream",
     "text": [
      "Optimization terminated successfully.\n",
      "         Current function value: 0.592025\n",
      "         Iterations 5\n",
      "Iteration 7 (seej_help)): AIC of the current model 115.82825097158135\n"
     ]
    }
   ],
   "source": [
    "mod_seek = smf.logit(formula = 'treatment ~ no_employees + remote_work + tech_company + benefits + wellness_program + leave', data = df_test).fit()\n",
    "print('Iteration 7 (seej_help)): AIC of the current model', mod_seek.aic)"
   ]
  },
  {
   "cell_type": "code",
   "execution_count": 36,
   "metadata": {},
   "outputs": [
    {
     "name": "stdout",
     "output_type": "stream",
     "text": [
      "Optimization terminated successfully.\n",
      "         Current function value: 0.615695\n",
      "         Iterations 5\n",
      "Iteration 8 (leave): AIC of the current model 119.89955668308502\n"
     ]
    }
   ],
   "source": [
    "mod_leave = smf.logit(formula = 'treatment ~ no_employees + remote_work + tech_company + benefits + wellness_program + seek_help', data = df_test).fit()\n",
    "print('Iteration 8 (leave): AIC of the current model', mod_leave.aic)"
   ]
  },
  {
   "cell_type": "markdown",
   "metadata": {},
   "source": [
    "Conclusion: we find the model without wellness_program is better than the original one!"
   ]
  },
  {
   "cell_type": "markdown",
   "metadata": {},
   "source": [
    "### Fitting the Model:"
   ]
  },
  {
   "cell_type": "code",
   "execution_count": null,
   "metadata": {},
   "outputs": [
    {
     "name": "stdout",
     "output_type": "stream",
     "text": [
      "Optimization terminated successfully.\n",
      "         Current function value: 0.659320\n",
      "         Iterations 5\n"
     ]
    },
    {
     "data": {
      "text/html": [
       "<table class=\"simpletable\">\n",
       "<caption>Logit Regression Results</caption>\n",
       "<tr>\n",
       "  <th>Dep. Variable:</th>       <td>treatment</td>    <th>  No. Observations:  </th>  <td>   340</td> \n",
       "</tr>\n",
       "<tr>\n",
       "  <th>Model:</th>                 <td>Logit</td>      <th>  Df Residuals:      </th>  <td>   333</td> \n",
       "</tr>\n",
       "<tr>\n",
       "  <th>Method:</th>                 <td>MLE</td>       <th>  Df Model:          </th>  <td>     6</td> \n",
       "</tr>\n",
       "<tr>\n",
       "  <th>Date:</th>            <td>Wed, 27 Apr 2022</td> <th>  Pseudo R-squ.:     </th>  <td>0.03367</td>\n",
       "</tr>\n",
       "<tr>\n",
       "  <th>Time:</th>                <td>20:54:32</td>     <th>  Log-Likelihood:    </th> <td> -224.17</td>\n",
       "</tr>\n",
       "<tr>\n",
       "  <th>converged:</th>             <td>True</td>       <th>  LL-Null:           </th> <td> -231.98</td>\n",
       "</tr>\n",
       "<tr>\n",
       "  <th>Covariance Type:</th>     <td>nonrobust</td>    <th>  LLR p-value:       </th>  <td>0.01593</td>\n",
       "</tr>\n",
       "</table>\n",
       "<table class=\"simpletable\">\n",
       "<tr>\n",
       "        <td></td>          <th>coef</th>     <th>std err</th>      <th>z</th>      <th>P>|z|</th>  <th>[0.025</th>    <th>0.975]</th>  \n",
       "</tr>\n",
       "<tr>\n",
       "  <th>Intercept</th>    <td>    0.1886</td> <td>    0.422</td> <td>    0.447</td> <td> 0.655</td> <td>   -0.638</td> <td>    1.015</td>\n",
       "</tr>\n",
       "<tr>\n",
       "  <th>no_employees</th> <td>   -0.0479</td> <td>    0.085</td> <td>   -0.566</td> <td> 0.572</td> <td>   -0.214</td> <td>    0.118</td>\n",
       "</tr>\n",
       "<tr>\n",
       "  <th>remote_work</th>  <td>    0.1924</td> <td>    0.255</td> <td>    0.753</td> <td> 0.451</td> <td>   -0.308</td> <td>    0.693</td>\n",
       "</tr>\n",
       "<tr>\n",
       "  <th>tech_company</th> <td>   -0.1783</td> <td>    0.327</td> <td>   -0.545</td> <td> 0.586</td> <td>   -0.820</td> <td>    0.463</td>\n",
       "</tr>\n",
       "<tr>\n",
       "  <th>benefits</th>     <td>    0.8872</td> <td>    0.305</td> <td>    2.908</td> <td> 0.004</td> <td>    0.289</td> <td>    1.485</td>\n",
       "</tr>\n",
       "<tr>\n",
       "  <th>seek_help</th>    <td>    0.1232</td> <td>    0.322</td> <td>    0.382</td> <td> 0.702</td> <td>   -0.509</td> <td>    0.755</td>\n",
       "</tr>\n",
       "<tr>\n",
       "  <th>leave</th>        <td>   -0.1359</td> <td>    0.078</td> <td>   -1.732</td> <td> 0.083</td> <td>   -0.290</td> <td>    0.018</td>\n",
       "</tr>\n",
       "</table>"
      ],
      "text/plain": [
       "<class 'statsmodels.iolib.summary.Summary'>\n",
       "\"\"\"\n",
       "                           Logit Regression Results                           \n",
       "==============================================================================\n",
       "Dep. Variable:              treatment   No. Observations:                  340\n",
       "Model:                          Logit   Df Residuals:                      333\n",
       "Method:                           MLE   Df Model:                            6\n",
       "Date:                Wed, 27 Apr 2022   Pseudo R-squ.:                 0.03367\n",
       "Time:                        20:54:32   Log-Likelihood:                -224.17\n",
       "converged:                       True   LL-Null:                       -231.98\n",
       "Covariance Type:            nonrobust   LLR p-value:                   0.01593\n",
       "================================================================================\n",
       "                   coef    std err          z      P>|z|      [0.025      0.975]\n",
       "--------------------------------------------------------------------------------\n",
       "Intercept        0.1886      0.422      0.447      0.655      -0.638       1.015\n",
       "no_employees    -0.0479      0.085     -0.566      0.572      -0.214       0.118\n",
       "remote_work      0.1924      0.255      0.753      0.451      -0.308       0.693\n",
       "tech_company    -0.1783      0.327     -0.545      0.586      -0.820       0.463\n",
       "benefits         0.8872      0.305      2.908      0.004       0.289       1.485\n",
       "seek_help        0.1232      0.322      0.382      0.702      -0.509       0.755\n",
       "leave           -0.1359      0.078     -1.732      0.083      -0.290       0.018\n",
       "================================================================================\n",
       "\"\"\""
      ]
     },
     "execution_count": 126,
     "metadata": {},
     "output_type": "execute_result"
    }
   ],
   "source": [
    "model1 = smf.logit(formula = 'treatment ~ no_employees + remote_work + tech_company + benefits + seek_help + leave', data = df_train).fit()\n",
    "model1.summary()"
   ]
  },
  {
   "cell_type": "markdown",
   "metadata": {},
   "source": [
    "### Fitted Equation: log($\\hat{p}$/1-$\\hat{p}$) = 0.1886 - 0.0479 * no_employees + 0.1924 * remote_work - 0.1783 * tech_company + 0.8872 * benefits + 0.1232 * seek_help - 0.1359 * leave"
   ]
  },
  {
   "cell_type": "markdown",
   "metadata": {},
   "source": [
    "### Checking Conditions:"
   ]
  },
  {
   "cell_type": "code",
   "execution_count": null,
   "metadata": {},
   "outputs": [
    {
     "data": {
      "image/png": "[encoded data removed]",
      "text/plain": [
       "<Figure size 360x360 with 1 Axes>"
      ]
     },
     "metadata": {},
     "output_type": "display_data"
    }
   ],
   "source": [
    "sns.lmplot(x=\"no_employees\", y='treatment', data=df, logistic=True) \n",
    "plt.ylabel('1 = sought help, 0 = not sought help') \n",
    "plt.show() "
   ]
  },
  {
   "cell_type": "markdown",
   "metadata": {},
   "source": [
    "1. Independence, met: this dataset is from a 2014 survey, so it is a random sample from the whole population of all US employees in Tech field, besides, n (426) < 10%N (all US employees in Tech field) in US;\n",
    "\n",
    "2. Linearity Condition, met: there is small s-shape in the above figure;\n",
    "\n",
    "3. Multicollinearity: we have only one numeric variable here (no_emplloyees), so we do not need to check this condition. "
   ]
  },
  {
   "cell_type": "markdown",
   "metadata": {},
   "source": [
    "### Let us see if this model is reasonable for use before diving into its data and drawing our conclusions."
   ]
  },
  {
   "cell_type": "code",
   "execution_count": null,
   "metadata": {},
   "outputs": [
    {
     "name": "stdout",
     "output_type": "stream",
     "text": [
      "0.6824404761904762\n"
     ]
    }
   ],
   "source": [
    "fprs, tprs, thresholds = roc_curve(y_true=df_test['treatment'], y_score=model1.predict(exog=df_test)) \n",
    "auc = roc_auc_score(y_true=df_test['treatment'], y_score=model1.predict(exog=df_test)) \n",
    "print(auc)"
   ]
  },
  {
   "cell_type": "code",
   "execution_count": null,
   "metadata": {},
   "outputs": [
    {
     "data": {
      "image/png": "[encoded data removed]",
      "text/plain": [
       "<Figure size 432x288 with 1 Axes>"
      ]
     },
     "metadata": {},
     "output_type": "display_data"
    }
   ],
   "source": [
    "def plot_roc(fpr, tpr, auc, lw=2): \n",
    "   plt.plot(fpr, tpr, color='darkorange', lw=lw, \n",
    "            label='ROC curve (area = '+str(round(auc,3))+')') \n",
    "   plt.plot([0, 1], [0, 1], color='navy', lw=lw, linestyle='--') \n",
    "   plt.xlabel('False Positive Rate') \n",
    "   plt.ylabel('True Positive Rate') \n",
    "   plt.title('ROC Curve') \n",
    "   plt.legend(loc=\"lower right\") \n",
    "   plt.show() \n",
    "\n",
    "plot_roc(fprs, tprs, auc) "
   ]
  },
  {
   "cell_type": "markdown",
   "metadata": {},
   "source": [
    "### Conclusion: \n",
    "Since the p value of benefits here (0.004) < $\\alpha$ value (0.05), we would reject the H0 of that the $\\beta(benefits)$ in the model 1 = 0, and conclude that there is a relationship between benefit and seeking mental health help. However, for other variables in the model, their default p values does not seem to be < $\\alpha$ value (0.05). Besides, the variable with the lowest p value is leave, indicating that how easy is it for employee to take medical leave for a mental health condition could be more related to seeking mental help compared to other predictors in the mdoel."
   ]
  },
  {
   "cell_type": "markdown",
   "metadata": {},
   "source": [
    "## 2. Is there an association between gender, age, and mental health? ($\\alpha$ = 0.05)"
   ]
  },
  {
   "cell_type": "markdown",
   "metadata": {},
   "source": [
    "H0: $\\beta(Gender)$ = $\\beta(Age)$ = 0 in the model;\n",
    "\n",
    "Ha: a least one $\\beta$ != 0 in the model"
   ]
  },
  {
   "cell_type": "markdown",
   "metadata": {},
   "source": [
    "### Backward Elimination:"
   ]
  },
  {
   "cell_type": "markdown",
   "metadata": {},
   "source": [
    "We have only 2 predictors in our model, so we may not need to do the elimination part here, the summary table is sufficient for drawing insight."
   ]
  },
  {
   "cell_type": "code",
   "execution_count": null,
   "metadata": {},
   "outputs": [
    {
     "name": "stdout",
     "output_type": "stream",
     "text": [
      "Optimization terminated successfully.\n",
      "         Current function value: 0.655791\n",
      "         Iterations 5\n"
     ]
    },
    {
     "data": {
      "text/html": [
       "<table class=\"simpletable\">\n",
       "<caption>Logit Regression Results</caption>\n",
       "<tr>\n",
       "  <th>Dep. Variable:</th>       <td>treatment</td>    <th>  No. Observations:  </th>  <td>   340</td>  \n",
       "</tr>\n",
       "<tr>\n",
       "  <th>Model:</th>                 <td>Logit</td>      <th>  Df Residuals:      </th>  <td>   337</td>  \n",
       "</tr>\n",
       "<tr>\n",
       "  <th>Method:</th>                 <td>MLE</td>       <th>  Df Model:          </th>  <td>     2</td>  \n",
       "</tr>\n",
       "<tr>\n",
       "  <th>Date:</th>            <td>Wed, 27 Apr 2022</td> <th>  Pseudo R-squ.:     </th>  <td>0.03884</td> \n",
       "</tr>\n",
       "<tr>\n",
       "  <th>Time:</th>                <td>20:57:18</td>     <th>  Log-Likelihood:    </th> <td> -222.97</td> \n",
       "</tr>\n",
       "<tr>\n",
       "  <th>converged:</th>             <td>True</td>       <th>  LL-Null:           </th> <td> -231.98</td> \n",
       "</tr>\n",
       "<tr>\n",
       "  <th>Covariance Type:</th>     <td>nonrobust</td>    <th>  LLR p-value:       </th> <td>0.0001220</td>\n",
       "</tr>\n",
       "</table>\n",
       "<table class=\"simpletable\">\n",
       "<tr>\n",
       "       <td></td>          <th>coef</th>     <th>std err</th>      <th>z</th>      <th>P>|z|</th>  <th>[0.025</th>    <th>0.975]</th>  \n",
       "</tr>\n",
       "<tr>\n",
       "  <th>Intercept</th>   <td>   -1.1809</td> <td>    0.588</td> <td>   -2.009</td> <td> 0.045</td> <td>   -2.333</td> <td>   -0.029</td>\n",
       "</tr>\n",
       "<tr>\n",
       "  <th>Gender[T.1]</th> <td>   -0.7149</td> <td>    0.300</td> <td>   -2.383</td> <td> 0.017</td> <td>   -1.303</td> <td>   -0.127</td>\n",
       "</tr>\n",
       "<tr>\n",
       "  <th>Age</th>         <td>    0.0635</td> <td>    0.017</td> <td>    3.629</td> <td> 0.000</td> <td>    0.029</td> <td>    0.098</td>\n",
       "</tr>\n",
       "</table>"
      ],
      "text/plain": [
       "<class 'statsmodels.iolib.summary.Summary'>\n",
       "\"\"\"\n",
       "                           Logit Regression Results                           \n",
       "==============================================================================\n",
       "Dep. Variable:              treatment   No. Observations:                  340\n",
       "Model:                          Logit   Df Residuals:                      337\n",
       "Method:                           MLE   Df Model:                            2\n",
       "Date:                Wed, 27 Apr 2022   Pseudo R-squ.:                 0.03884\n",
       "Time:                        20:57:18   Log-Likelihood:                -222.97\n",
       "converged:                       True   LL-Null:                       -231.98\n",
       "Covariance Type:            nonrobust   LLR p-value:                 0.0001220\n",
       "===============================================================================\n",
       "                  coef    std err          z      P>|z|      [0.025      0.975]\n",
       "-------------------------------------------------------------------------------\n",
       "Intercept      -1.1809      0.588     -2.009      0.045      -2.333      -0.029\n",
       "Gender[T.1]    -0.7149      0.300     -2.383      0.017      -1.303      -0.127\n",
       "Age             0.0635      0.017      3.629      0.000       0.029       0.098\n",
       "===============================================================================\n",
       "\"\"\""
      ]
     },
     "execution_count": 130,
     "metadata": {},
     "output_type": "execute_result"
    }
   ],
   "source": [
    "model2 = smf.logit(formula = 'treatment ~ Gender + Age', data = df_train).fit()\n",
    "model2.summary()"
   ]
  },
  {
   "cell_type": "markdown",
   "metadata": {},
   "source": [
    "### Fitted Equation:"
   ]
  },
  {
   "cell_type": "markdown",
   "metadata": {},
   "source": [
    "log($\\hat{p}$/1-$\\hat{p}$) = -1.1809 - 0.7149 * Gender + 0.0635 * Age"
   ]
  },
  {
   "cell_type": "markdown",
   "metadata": {},
   "source": [
    "### Checking Conditions:"
   ]
  },
  {
   "cell_type": "code",
   "execution_count": null,
   "metadata": {},
   "outputs": [
    {
     "data": {
      "image/png": "[encoded data removed]",
      "text/plain": [
       "<Figure size 360x360 with 1 Axes>"
      ]
     },
     "metadata": {},
     "output_type": "display_data"
    }
   ],
   "source": [
    "sns.lmplot(x=\"Age\", y='treatment', data=df, logistic=True) \n",
    "plt.ylabel('1 = sought help, 0 = not sought help') \n",
    "plt.show()"
   ]
  },
  {
   "cell_type": "markdown",
   "metadata": {},
   "source": [
    "1. Independence, met: this dataset is from a 2014 survey, so it is a random sample from the whole population of all US employees in Tech field, besides, n (426) < 10%N (all US employees in Tech field in US);\n",
    "\n",
    "2. Linearity Condition, met: there is obvious s-shape in the above figure;\n",
    "\n",
    "3. Multicollinearity: we have only one numeric variable here (Age), so we do not need to check this condition. "
   ]
  },
  {
   "cell_type": "markdown",
   "metadata": {},
   "source": [
    "### Again, let us see if this model is reasonable for use before diving into its data and drawing our conclusions."
   ]
  },
  {
   "cell_type": "code",
   "execution_count": null,
   "metadata": {},
   "outputs": [
    {
     "name": "stdout",
     "output_type": "stream",
     "text": [
      "0.6461309523809524\n"
     ]
    }
   ],
   "source": [
    "fprs, tprs, thresholds = roc_curve(y_true=df_test['treatment'], y_score=model2.predict(exog=df_test)) \n",
    "auc = roc_auc_score(y_true=df_test['treatment'], y_score=model2.predict(exog=df_test)) \n",
    "print(auc)"
   ]
  },
  {
   "cell_type": "code",
   "execution_count": null,
   "metadata": {},
   "outputs": [
    {
     "data": {
      "image/png": "[encoded data removed]",
      "text/plain": [
       "<Figure size 432x288 with 1 Axes>"
      ]
     },
     "metadata": {},
     "output_type": "display_data"
    }
   ],
   "source": [
    "def plot_roc(fpr, tpr, auc, lw=2): \n",
    "   plt.plot(fpr, tpr, color='darkorange', lw=lw, \n",
    "            label='ROC curve (area = '+str(round(auc,3))+')') \n",
    "   plt.plot([0, 1], [0, 1], color='navy', lw=lw, linestyle='--') \n",
    "   plt.xlabel('False Positive Rate') \n",
    "   plt.ylabel('True Positive Rate') \n",
    "   plt.title('ROC Curve') \n",
    "   plt.legend(loc=\"lower right\") \n",
    "   plt.show() \n",
    "\n",
    "plot_roc(fprs, tprs, auc) "
   ]
  },
  {
   "cell_type": "markdown",
   "metadata": {},
   "source": [
    "### Conclusion: \n",
    "Since the p value of Gender here (0.017) < $\\alpha$ value (0.05), we would reject the H0 of that the $\\beta(Gender)$ in the model 2 = 0, and conclude that there is a relationship between Gender and seeking mental health help. Similarly, for $\\beta(Age)$, its p value (0.000) < $\\alpha$ value (0.05), we have the same conclusion with it like Gender."
   ]
  }
 ],
 "metadata": {
  "interpreter": {
   "hash": "8f5ae4c618e8f428dfc4b38bacdb8c21a1d5db0b54a64f2abd0102602002f562"
  },
  "kernelspec": {
   "display_name": "Python 3.9.5 ('base')",
   "language": "python",
   "name": "python3"
  },
  "language_info": {
   "codemirror_mode": {
    "name": "ipython",
    "version": 3
   },
   "file_extension": ".py",
   "mimetype": "text/x-python",
   "name": "python",
   "nbconvert_exporter": "python",
   "pygments_lexer": "ipython3",
   "version": "3.9.5"
  },
  "orig_nbformat": 4
 },
 "nbformat": 4,
 "nbformat_minor": 2
}
